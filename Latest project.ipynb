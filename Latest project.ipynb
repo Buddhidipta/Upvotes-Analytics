{
 "cells": [
  {
   "cell_type": "markdown",
   "metadata": {},
   "source": [
    "# Project"
   ]
  },
  {
   "cell_type": "code",
   "execution_count": 2,
   "metadata": {},
   "outputs": [],
   "source": [
    "import pandas as pd\n",
    "import numpy as np\n",
    "import warnings\n",
    "import matplotlib.pyplot as plt\n",
    "import seaborn as sns\n",
    "warnings.filterwarnings('ignore')\n",
    "pd.set_option('display.max_columns', None)"
   ]
  },
  {
   "cell_type": "code",
   "execution_count": 3,
   "metadata": {},
   "outputs": [
    {
     "data": {
      "text/html": [
       "<div>\n",
       "<style scoped>\n",
       "    .dataframe tbody tr th:only-of-type {\n",
       "        vertical-align: middle;\n",
       "    }\n",
       "\n",
       "    .dataframe tbody tr th {\n",
       "        vertical-align: top;\n",
       "    }\n",
       "\n",
       "    .dataframe thead th {\n",
       "        text-align: right;\n",
       "    }\n",
       "</style>\n",
       "<table border=\"1\" class=\"dataframe\">\n",
       "  <thead>\n",
       "    <tr style=\"text-align: right;\">\n",
       "      <th></th>\n",
       "      <th>ID</th>\n",
       "      <th>Tag</th>\n",
       "      <th>Reputation</th>\n",
       "      <th>Answers</th>\n",
       "      <th>Username</th>\n",
       "      <th>Views</th>\n",
       "      <th>Upvotes</th>\n",
       "    </tr>\n",
       "  </thead>\n",
       "  <tbody>\n",
       "    <tr>\n",
       "      <td>0</td>\n",
       "      <td>52664</td>\n",
       "      <td>a</td>\n",
       "      <td>3942</td>\n",
       "      <td>2</td>\n",
       "      <td>155623</td>\n",
       "      <td>7855</td>\n",
       "      <td>42</td>\n",
       "    </tr>\n",
       "    <tr>\n",
       "      <td>1</td>\n",
       "      <td>327662</td>\n",
       "      <td>a</td>\n",
       "      <td>26046</td>\n",
       "      <td>12</td>\n",
       "      <td>21781</td>\n",
       "      <td>55801</td>\n",
       "      <td>1175</td>\n",
       "    </tr>\n",
       "    <tr>\n",
       "      <td>2</td>\n",
       "      <td>468453</td>\n",
       "      <td>c</td>\n",
       "      <td>1358</td>\n",
       "      <td>4</td>\n",
       "      <td>56177</td>\n",
       "      <td>8067</td>\n",
       "      <td>60</td>\n",
       "    </tr>\n",
       "    <tr>\n",
       "      <td>3</td>\n",
       "      <td>96996</td>\n",
       "      <td>a</td>\n",
       "      <td>264</td>\n",
       "      <td>3</td>\n",
       "      <td>168793</td>\n",
       "      <td>27064</td>\n",
       "      <td>9</td>\n",
       "    </tr>\n",
       "    <tr>\n",
       "      <td>4</td>\n",
       "      <td>131465</td>\n",
       "      <td>c</td>\n",
       "      <td>4271</td>\n",
       "      <td>4</td>\n",
       "      <td>112223</td>\n",
       "      <td>13986</td>\n",
       "      <td>83</td>\n",
       "    </tr>\n",
       "    <tr>\n",
       "      <td>5</td>\n",
       "      <td>345568</td>\n",
       "      <td>r</td>\n",
       "      <td>440</td>\n",
       "      <td>1</td>\n",
       "      <td>23866</td>\n",
       "      <td>5577</td>\n",
       "      <td>4</td>\n",
       "    </tr>\n",
       "    <tr>\n",
       "      <td>6</td>\n",
       "      <td>376865</td>\n",
       "      <td>c</td>\n",
       "      <td>147</td>\n",
       "      <td>1</td>\n",
       "      <td>10759</td>\n",
       "      <td>17184</td>\n",
       "      <td>17</td>\n",
       "    </tr>\n",
       "    <tr>\n",
       "      <td>7</td>\n",
       "      <td>467378</td>\n",
       "      <td>j</td>\n",
       "      <td>2269</td>\n",
       "      <td>2</td>\n",
       "      <td>54623</td>\n",
       "      <td>312</td>\n",
       "      <td>3</td>\n",
       "    </tr>\n",
       "    <tr>\n",
       "      <td>8</td>\n",
       "      <td>393640</td>\n",
       "      <td>j</td>\n",
       "      <td>111</td>\n",
       "      <td>2</td>\n",
       "      <td>172926</td>\n",
       "      <td>53738</td>\n",
       "      <td>79</td>\n",
       "    </tr>\n",
       "    <tr>\n",
       "      <td>9</td>\n",
       "      <td>130054</td>\n",
       "      <td>c</td>\n",
       "      <td>2749</td>\n",
       "      <td>1</td>\n",
       "      <td>10189</td>\n",
       "      <td>227</td>\n",
       "      <td>0</td>\n",
       "    </tr>\n",
       "  </tbody>\n",
       "</table>\n",
       "</div>"
      ],
      "text/plain": [
       "       ID Tag  Reputation  Answers  Username  Views  Upvotes\n",
       "0   52664   a        3942        2    155623   7855       42\n",
       "1  327662   a       26046       12     21781  55801     1175\n",
       "2  468453   c        1358        4     56177   8067       60\n",
       "3   96996   a         264        3    168793  27064        9\n",
       "4  131465   c        4271        4    112223  13986       83\n",
       "5  345568   r         440        1     23866   5577        4\n",
       "6  376865   c         147        1     10759  17184       17\n",
       "7  467378   j        2269        2     54623    312        3\n",
       "8  393640   j         111        2    172926  53738       79\n",
       "9  130054   c        2749        1     10189    227        0"
      ]
     },
     "execution_count": 3,
     "metadata": {},
     "output_type": "execute_result"
    }
   ],
   "source": [
    "df=pd.read_csv('Train_upvotes.csv',header=0)\n",
    "df.head(10)"
   ]
  },
  {
   "cell_type": "code",
   "execution_count": 4,
   "metadata": {},
   "outputs": [
    {
     "name": "stdout",
     "output_type": "stream",
     "text": [
      "<bound method NDFrame.describe of             ID Tag  Reputation  Answers  Username  Views  Upvotes\n",
      "0        52664   a        3942        2    155623   7855       42\n",
      "1       327662   a       26046       12     21781  55801     1175\n",
      "2       468453   c        1358        4     56177   8067       60\n",
      "3        96996   a         264        3    168793  27064        9\n",
      "4       131465   c        4271        4    112223  13986       83\n",
      "...        ...  ..         ...      ...       ...    ...      ...\n",
      "330040  339800   c          36        2     84919   1063        0\n",
      "330041  253800   c        1649        2     76730  23319       73\n",
      "330042  210756   c        6178        2     91701   2453       15\n",
      "330043   56089   j          89        2     80245   2107        3\n",
      "330044  300553   j        2001        4    154692   2554       37\n",
      "\n",
      "[330045 rows x 7 columns]>\n"
     ]
    }
   ],
   "source": [
    "print(df.describe)"
   ]
  },
  {
   "cell_type": "code",
   "execution_count": 5,
   "metadata": {},
   "outputs": [
    {
     "data": {
      "text/plain": [
       "<matplotlib.axes._subplots.AxesSubplot at 0x1e14f254588>"
      ]
     },
     "execution_count": 5,
     "metadata": {},
     "output_type": "execute_result"
    },
    {
     "data": {
      "image/png": "[encoded data removed]",
      "text/plain": [
       "<Figure size 432x288 with 1 Axes>"
      ]
     },
     "metadata": {
      "needs_background": "light"
     },
     "output_type": "display_data"
    }
   ],
   "source": [
    "df.boxplot(column='Username')"
   ]
  },
  {
   "cell_type": "code",
   "execution_count": 6,
   "metadata": {},
   "outputs": [
    {
     "data": {
      "text/plain": [
       "<bound method boxplot_frame of             ID Tag  Reputation  Answers  Username  Views  Upvotes\n",
       "0        52664   a        3942        2    155623   7855       42\n",
       "1       327662   a       26046       12     21781  55801     1175\n",
       "2       468453   c        1358        4     56177   8067       60\n",
       "3        96996   a         264        3    168793  27064        9\n",
       "4       131465   c        4271        4    112223  13986       83\n",
       "...        ...  ..         ...      ...       ...    ...      ...\n",
       "330040  339800   c          36        2     84919   1063        0\n",
       "330041  253800   c        1649        2     76730  23319       73\n",
       "330042  210756   c        6178        2     91701   2453       15\n",
       "330043   56089   j          89        2     80245   2107        3\n",
       "330044  300553   j        2001        4    154692   2554       37\n",
       "\n",
       "[330045 rows x 7 columns]>"
      ]
     },
     "execution_count": 6,
     "metadata": {},
     "output_type": "execute_result"
    }
   ],
   "source": [
    "df.boxplot"
   ]
  },
  {
   "cell_type": "code",
   "execution_count": 7,
   "metadata": {},
   "outputs": [
    {
     "data": {
      "text/plain": [
       "ID             int64\n",
       "Tag           object\n",
       "Reputation     int64\n",
       "Answers        int64\n",
       "Username       int64\n",
       "Views          int64\n",
       "Upvotes        int64\n",
       "dtype: object"
      ]
     },
     "execution_count": 7,
     "metadata": {},
     "output_type": "execute_result"
    }
   ],
   "source": [
    "df.dtypes"
   ]
  },
  {
   "cell_type": "code",
   "execution_count": 8,
   "metadata": {},
   "outputs": [
    {
     "data": {
      "text/plain": [
       "ID            0\n",
       "Tag           0\n",
       "Reputation    0\n",
       "Answers       0\n",
       "Username      0\n",
       "Views         0\n",
       "Upvotes       0\n",
       "dtype: int64"
      ]
     },
     "execution_count": 8,
     "metadata": {},
     "output_type": "execute_result"
    }
   ],
   "source": [
    "df.isna().sum()"
   ]
  },
  {
   "cell_type": "code",
   "execution_count": 9,
   "metadata": {},
   "outputs": [
    {
     "name": "stdout",
     "output_type": "stream",
     "text": [
      "ID            int64\n",
      "Tag           int32\n",
      "Reputation    int64\n",
      "Answers       int64\n",
      "Username      int64\n",
      "Views         int64\n",
      "Upvotes       int64\n",
      "dtype: object\n"
     ]
    }
   ],
   "source": [
    "#for preprocessing the data and converting all the categorical data into numeric data\n",
    "from sklearn import preprocessing\n",
    "\n",
    "le=preprocessing.LabelEncoder()\n",
    "\n",
    "\n",
    "df['Tag']=le.fit_transform(df['Tag'])\n",
    "print(df.dtypes)"
   ]
  },
  {
   "cell_type": "code",
   "execution_count": 10,
   "metadata": {},
   "outputs": [
    {
     "data": {
      "text/plain": [
       "<matplotlib.axes._subplots.AxesSubplot at 0x1e14f6c11c8>"
      ]
     },
     "execution_count": 10,
     "metadata": {},
     "output_type": "execute_result"
    },
    {
     "data": {
      "image/png": "[encoded data removed]",
      "text/plain": [
       "<Figure size 432x288 with 1 Axes>"
      ]
     },
     "metadata": {
      "needs_background": "light"
     },
     "output_type": "display_data"
    }
   ],
   "source": [
    "sns.distplot(df['Reputation'], hist=True)"
   ]
  },
  {
   "cell_type": "code",
   "execution_count": 11,
   "metadata": {},
   "outputs": [
    {
     "data": {
      "text/plain": [
       "<matplotlib.axes._subplots.AxesSubplot at 0x1e14f72fa08>"
      ]
     },
     "execution_count": 11,
     "metadata": {},
     "output_type": "execute_result"
    },
    {
     "data": {
      "image/png": "[encoded data removed]",
      "text/plain": [
       "<Figure size 432x288 with 1 Axes>"
      ]
     },
     "metadata": {
      "needs_background": "light"
     },
     "output_type": "display_data"
    }
   ],
   "source": [
    "df.boxplot(column='Reputation')"
   ]
  },
  {
   "cell_type": "code",
   "execution_count": 12,
   "metadata": {},
   "outputs": [],
   "source": [
    "df=pd.DataFrame(df)"
   ]
  },
  {
   "cell_type": "code",
   "execution_count": 13,
   "metadata": {},
   "outputs": [],
   "source": [
    "X=df.values[:,:-1]\n",
    "Y=df.values[:,-1]"
   ]
  },
  {
   "cell_type": "code",
   "execution_count": 14,
   "metadata": {},
   "outputs": [
    {
     "name": "stdout",
     "output_type": "stream",
     "text": [
      "[[-1.34582287 -1.42067741 -0.14157253 -0.53573597  1.5072655  -0.26915833]\n",
      " [ 0.67563841 -1.42067741  0.67523751  2.25794312 -1.21226978  0.32308687]\n",
      " [ 1.71056795 -1.0197016  -0.23705919  0.02299985 -0.51337753 -0.26653963]\n",
      " ...\n",
      " [-0.18371676 -1.0197016  -0.05894553 -0.53573597  0.20843454 -0.33588566]\n",
      " [-1.3206463   0.18322582 -0.2839526  -0.53573597 -0.0243399  -0.34015957]\n",
      " [ 0.47636498  0.18322582 -0.21329838  0.02299985  1.48834852 -0.33463807]]\n"
     ]
    }
   ],
   "source": [
    "from sklearn.preprocessing import StandardScaler\n",
    "\n",
    "scaler = StandardScaler()\n",
    "\n",
    "scaler.fit(X)\n",
    "\n",
    "X= scaler.transform(X)\n",
    "\n",
    "print(X)"
   ]
  },
  {
   "cell_type": "code",
   "execution_count": 15,
   "metadata": {},
   "outputs": [],
   "source": [
    "Y=Y.astype(int)"
   ]
  },
  {
   "cell_type": "code",
   "execution_count": 16,
   "metadata": {},
   "outputs": [],
   "source": [
    "from sklearn.model_selection import train_test_split\n",
    "\n",
    "# split the data into test and train\n",
    "X_train, X_test, Y_train, Y_test = train_test_split(X, Y, test_size=0.3, random_state=10)"
   ]
  },
  {
   "cell_type": "code",
   "execution_count": 17,
   "metadata": {},
   "outputs": [
    {
     "name": "stdout",
     "output_type": "stream",
     "text": [
      "339.70180360161766\n",
      "[ -14.81101244   18.11407945  939.12360357 -123.67769729  -14.12414309\n",
      " 1577.0283859 ]\n"
     ]
    }
   ],
   "source": [
    "from sklearn.linear_model import LinearRegression\n",
    "#create a model\n",
    "lm = LinearRegression()\n",
    "\n",
    "#train a model\n",
    "lm.fit(X_train, Y_train)\n",
    "\n",
    "#print intercepts and coefficients\n",
    "print(lm.intercept_)\n",
    "print(lm.coef_)"
   ]
  },
  {
   "cell_type": "code",
   "execution_count": 18,
   "metadata": {},
   "outputs": [],
   "source": [
    "#predict using the model\n",
    "Y_pred = lm.predict(X_test)"
   ]
  },
  {
   "cell_type": "code",
   "execution_count": 19,
   "metadata": {},
   "outputs": [
    {
     "name": "stdout",
     "output_type": "stream",
     "text": [
      "0.24968273582703837\n",
      "3216.168920022244\n",
      "0.2496690952656938\n"
     ]
    }
   ],
   "source": [
    "from sklearn.metrics import r2_score,mean_squared_error\n",
    "\n",
    "import numpy as np\n",
    "\n",
    "r2=r2_score(Y_test,Y_pred)\n",
    "print(r2)\n",
    "\n",
    "rmse=np.sqrt(mean_squared_error(Y_test,Y_pred))\n",
    "print(rmse)\n",
    "\n",
    "adjusted_r_squared = 1 - (1-r2)*(len(Y)-1)/(len(Y)-X.shape[1]-1)\n",
    "print(adjusted_r_squared)"
   ]
  },
  {
   "cell_type": "code",
   "execution_count": 20,
   "metadata": {},
   "outputs": [
    {
     "data": {
      "text/plain": [
       "<matplotlib.axes._subplots.AxesSubplot at 0x1e14f9d3688>"
      ]
     },
     "execution_count": 20,
     "metadata": {},
     "output_type": "execute_result"
    },
    {
     "data": {
      "image/png": "[encoded data removed]",
      "text/plain": [
       "<Figure size 432x288 with 1 Axes>"
      ]
     },
     "metadata": {
      "needs_background": "light"
     },
     "output_type": "display_data"
    }
   ],
   "source": [
    "sns.distplot(Y, hist=True)"
   ]
  },
  {
   "cell_type": "code",
   "execution_count": 21,
   "metadata": {},
   "outputs": [
    {
     "data": {
      "text/html": [
       "<div>\n",
       "<style scoped>\n",
       "    .dataframe tbody tr th:only-of-type {\n",
       "        vertical-align: middle;\n",
       "    }\n",
       "\n",
       "    .dataframe tbody tr th {\n",
       "        vertical-align: top;\n",
       "    }\n",
       "\n",
       "    .dataframe thead th {\n",
       "        text-align: right;\n",
       "    }\n",
       "</style>\n",
       "<table border=\"1\" class=\"dataframe\">\n",
       "  <thead>\n",
       "    <tr style=\"text-align: right;\">\n",
       "      <th></th>\n",
       "      <th>ID</th>\n",
       "      <th>Tag</th>\n",
       "      <th>Reputation</th>\n",
       "      <th>Answers</th>\n",
       "      <th>Username</th>\n",
       "      <th>Views</th>\n",
       "      <th>Upvotes</th>\n",
       "    </tr>\n",
       "  </thead>\n",
       "  <tbody>\n",
       "    <tr>\n",
       "      <td>count</td>\n",
       "      <td>330045.000000</td>\n",
       "      <td>330045.00000</td>\n",
       "      <td>3.300450e+05</td>\n",
       "      <td>330045.000000</td>\n",
       "      <td>330045.000000</td>\n",
       "      <td>3.300450e+05</td>\n",
       "      <td>330045.000000</td>\n",
       "    </tr>\n",
       "    <tr>\n",
       "      <td>mean</td>\n",
       "      <td>235748.682789</td>\n",
       "      <td>3.54305</td>\n",
       "      <td>7.773147e+03</td>\n",
       "      <td>3.917672</td>\n",
       "      <td>81442.888803</td>\n",
       "      <td>2.964507e+04</td>\n",
       "      <td>337.505358</td>\n",
       "    </tr>\n",
       "    <tr>\n",
       "      <td>std</td>\n",
       "      <td>136039.418471</td>\n",
       "      <td>2.49392</td>\n",
       "      <td>2.706141e+04</td>\n",
       "      <td>3.579515</td>\n",
       "      <td>49215.100730</td>\n",
       "      <td>8.095646e+04</td>\n",
       "      <td>3592.441135</td>\n",
       "    </tr>\n",
       "    <tr>\n",
       "      <td>min</td>\n",
       "      <td>1.000000</td>\n",
       "      <td>0.00000</td>\n",
       "      <td>0.000000e+00</td>\n",
       "      <td>0.000000</td>\n",
       "      <td>0.000000</td>\n",
       "      <td>9.000000e+00</td>\n",
       "      <td>0.000000</td>\n",
       "    </tr>\n",
       "    <tr>\n",
       "      <td>25%</td>\n",
       "      <td>117909.000000</td>\n",
       "      <td>1.00000</td>\n",
       "      <td>2.820000e+02</td>\n",
       "      <td>2.000000</td>\n",
       "      <td>39808.000000</td>\n",
       "      <td>2.594000e+03</td>\n",
       "      <td>8.000000</td>\n",
       "    </tr>\n",
       "    <tr>\n",
       "      <td>50%</td>\n",
       "      <td>235699.000000</td>\n",
       "      <td>4.00000</td>\n",
       "      <td>1.236000e+03</td>\n",
       "      <td>3.000000</td>\n",
       "      <td>79010.000000</td>\n",
       "      <td>8.954000e+03</td>\n",
       "      <td>28.000000</td>\n",
       "    </tr>\n",
       "    <tr>\n",
       "      <td>75%</td>\n",
       "      <td>353620.000000</td>\n",
       "      <td>6.00000</td>\n",
       "      <td>5.118000e+03</td>\n",
       "      <td>5.000000</td>\n",
       "      <td>122559.000000</td>\n",
       "      <td>2.687000e+04</td>\n",
       "      <td>107.000000</td>\n",
       "    </tr>\n",
       "    <tr>\n",
       "      <td>max</td>\n",
       "      <td>471493.000000</td>\n",
       "      <td>9.00000</td>\n",
       "      <td>1.042428e+06</td>\n",
       "      <td>76.000000</td>\n",
       "      <td>175738.000000</td>\n",
       "      <td>5.231058e+06</td>\n",
       "      <td>615278.000000</td>\n",
       "    </tr>\n",
       "  </tbody>\n",
       "</table>\n",
       "</div>"
      ],
      "text/plain": [
       "                  ID           Tag    Reputation        Answers  \\\n",
       "count  330045.000000  330045.00000  3.300450e+05  330045.000000   \n",
       "mean   235748.682789       3.54305  7.773147e+03       3.917672   \n",
       "std    136039.418471       2.49392  2.706141e+04       3.579515   \n",
       "min         1.000000       0.00000  0.000000e+00       0.000000   \n",
       "25%    117909.000000       1.00000  2.820000e+02       2.000000   \n",
       "50%    235699.000000       4.00000  1.236000e+03       3.000000   \n",
       "75%    353620.000000       6.00000  5.118000e+03       5.000000   \n",
       "max    471493.000000       9.00000  1.042428e+06      76.000000   \n",
       "\n",
       "            Username         Views        Upvotes  \n",
       "count  330045.000000  3.300450e+05  330045.000000  \n",
       "mean    81442.888803  2.964507e+04     337.505358  \n",
       "std     49215.100730  8.095646e+04    3592.441135  \n",
       "min         0.000000  9.000000e+00       0.000000  \n",
       "25%     39808.000000  2.594000e+03       8.000000  \n",
       "50%     79010.000000  8.954000e+03      28.000000  \n",
       "75%    122559.000000  2.687000e+04     107.000000  \n",
       "max    175738.000000  5.231058e+06  615278.000000  "
      ]
     },
     "execution_count": 21,
     "metadata": {},
     "output_type": "execute_result"
    }
   ],
   "source": [
    "df.describe()"
   ]
  },
  {
   "cell_type": "code",
   "execution_count": 22,
   "metadata": {},
   "outputs": [
    {
     "data": {
      "text/plain": [
       "<matplotlib.axes._subplots.AxesSubplot at 0x1e150e89588>"
      ]
     },
     "execution_count": 22,
     "metadata": {},
     "output_type": "execute_result"
    },
    {
     "data": {
      "image/png": "[encoded data removed]",
      "text/plain": [
       "<Figure size 432x288 with 1 Axes>"
      ]
     },
     "metadata": {
      "needs_background": "light"
     },
     "output_type": "display_data"
    }
   ],
   "source": [
    "df.boxplot(column='Tag')"
   ]
  },
  {
   "cell_type": "code",
   "execution_count": 23,
   "metadata": {},
   "outputs": [
    {
     "data": {
      "text/plain": [
       "<matplotlib.axes._subplots.AxesSubplot at 0x1e150eec8c8>"
      ]
     },
     "execution_count": 23,
     "metadata": {},
     "output_type": "execute_result"
    },
    {
     "data": {
      "image/png": "[encoded data removed]",
      "text/plain": [
       "<Figure size 432x288 with 1 Axes>"
      ]
     },
     "metadata": {
      "needs_background": "light"
     },
     "output_type": "display_data"
    }
   ],
   "source": [
    "df.boxplot(column='Reputation')"
   ]
  },
  {
   "cell_type": "code",
   "execution_count": 24,
   "metadata": {},
   "outputs": [
    {
     "data": {
      "text/plain": [
       "<matplotlib.axes._subplots.AxesSubplot at 0x1e150f67688>"
      ]
     },
     "execution_count": 24,
     "metadata": {},
     "output_type": "execute_result"
    },
    {
     "data": {
      "image/png": "[encoded data removed]",
      "text/plain": [
       "<Figure size 432x288 with 1 Axes>"
      ]
     },
     "metadata": {
      "needs_background": "light"
     },
     "output_type": "display_data"
    }
   ],
   "source": [
    "df.boxplot(column='Answers')"
   ]
  },
  {
   "cell_type": "code",
   "execution_count": 25,
   "metadata": {},
   "outputs": [
    {
     "data": {
      "text/plain": [
       "<matplotlib.axes._subplots.AxesSubplot at 0x1e150fd94c8>"
      ]
     },
     "execution_count": 25,
     "metadata": {},
     "output_type": "execute_result"
    },
    {
     "data": {
      "image/png": "[encoded data removed]",
      "text/plain": [
       "<Figure size 432x288 with 1 Axes>"
      ]
     },
     "metadata": {
      "needs_background": "light"
     },
     "output_type": "display_data"
    }
   ],
   "source": [
    "df.boxplot(column='Username')"
   ]
  },
  {
   "cell_type": "code",
   "execution_count": 26,
   "metadata": {},
   "outputs": [
    {
     "data": {
      "text/plain": [
       "<matplotlib.axes._subplots.AxesSubplot at 0x1e14c9dba08>"
      ]
     },
     "execution_count": 26,
     "metadata": {},
     "output_type": "execute_result"
    },
    {
     "data": {
      "image/png": "[encoded data removed]",
      "text/plain": [
       "<Figure size 432x288 with 1 Axes>"
      ]
     },
     "metadata": {
      "needs_background": "light"
     },
     "output_type": "display_data"
    }
   ],
   "source": [
    "df.boxplot(column='Views')"
   ]
  },
  {
   "cell_type": "code",
   "execution_count": 27,
   "metadata": {},
   "outputs": [
    {
     "data": {
      "text/plain": [
       "<matplotlib.axes._subplots.AxesSubplot at 0x1e152002f08>"
      ]
     },
     "execution_count": 27,
     "metadata": {},
     "output_type": "execute_result"
    },
    {
     "data": {
      "image/png": "[encoded data removed]",
      "text/plain": [
       "<Figure size 432x288 with 1 Axes>"
      ]
     },
     "metadata": {
      "needs_background": "light"
     },
     "output_type": "display_data"
    }
   ],
   "source": [
    "df.boxplot(column='Upvotes')"
   ]
  },
  {
   "cell_type": "code",
   "execution_count": 28,
   "metadata": {},
   "outputs": [],
   "source": [
    "df.to_csv('dataframe.csv',index=False)"
   ]
  },
  {
   "cell_type": "code",
   "execution_count": 29,
   "metadata": {},
   "outputs": [],
   "source": [
    "X=df.values[:,:-1]\n",
    "Y=df.values[:,-1]"
   ]
  },
  {
   "cell_type": "code",
   "execution_count": 30,
   "metadata": {},
   "outputs": [
    {
     "name": "stdout",
     "output_type": "stream",
     "text": [
      "[[-1.34582287 -1.42067741 -0.14157253 -0.53573597  1.5072655  -0.26915833]\n",
      " [ 0.67563841 -1.42067741  0.67523751  2.25794312 -1.21226978  0.32308687]\n",
      " [ 1.71056795 -1.0197016  -0.23705919  0.02299985 -0.51337753 -0.26653963]\n",
      " ...\n",
      " [-0.18371676 -1.0197016  -0.05894553 -0.53573597  0.20843454 -0.33588566]\n",
      " [-1.3206463   0.18322582 -0.2839526  -0.53573597 -0.0243399  -0.34015957]\n",
      " [ 0.47636498  0.18322582 -0.21329838  0.02299985  1.48834852 -0.33463807]]\n"
     ]
    }
   ],
   "source": [
    "from sklearn.preprocessing import StandardScaler\n",
    "\n",
    "scaler = StandardScaler()\n",
    "\n",
    "scaler.fit(X)\n",
    "\n",
    "X= scaler.transform(X)\n",
    "\n",
    "print(X)"
   ]
  },
  {
   "cell_type": "code",
   "execution_count": 31,
   "metadata": {},
   "outputs": [],
   "source": [
    "from sklearn.model_selection import train_test_split\n",
    "\n",
    "# split the data into test and train\n",
    "X_train, X_test, Y_train, Y_test = train_test_split(X, Y, test_size=0.3, random_state=10)"
   ]
  },
  {
   "cell_type": "code",
   "execution_count": 32,
   "metadata": {},
   "outputs": [
    {
     "data": {
      "text/html": [
       "<div>\n",
       "<style scoped>\n",
       "    .dataframe tbody tr th:only-of-type {\n",
       "        vertical-align: middle;\n",
       "    }\n",
       "\n",
       "    .dataframe tbody tr th {\n",
       "        vertical-align: top;\n",
       "    }\n",
       "\n",
       "    .dataframe thead th {\n",
       "        text-align: right;\n",
       "    }\n",
       "</style>\n",
       "<table border=\"1\" class=\"dataframe\">\n",
       "  <thead>\n",
       "    <tr style=\"text-align: right;\">\n",
       "      <th></th>\n",
       "      <th>ID</th>\n",
       "      <th>Tag</th>\n",
       "      <th>Reputation</th>\n",
       "      <th>Answers</th>\n",
       "      <th>Username</th>\n",
       "      <th>Views</th>\n",
       "      <th>Upvotes</th>\n",
       "    </tr>\n",
       "  </thead>\n",
       "  <tbody>\n",
       "    <tr>\n",
       "      <td>0</td>\n",
       "      <td>52664</td>\n",
       "      <td>a</td>\n",
       "      <td>3942</td>\n",
       "      <td>2</td>\n",
       "      <td>155623</td>\n",
       "      <td>7855</td>\n",
       "      <td>42</td>\n",
       "    </tr>\n",
       "    <tr>\n",
       "      <td>1</td>\n",
       "      <td>327662</td>\n",
       "      <td>a</td>\n",
       "      <td>26046</td>\n",
       "      <td>12</td>\n",
       "      <td>21781</td>\n",
       "      <td>55801</td>\n",
       "      <td>1175</td>\n",
       "    </tr>\n",
       "    <tr>\n",
       "      <td>2</td>\n",
       "      <td>468453</td>\n",
       "      <td>c</td>\n",
       "      <td>1358</td>\n",
       "      <td>4</td>\n",
       "      <td>56177</td>\n",
       "      <td>8067</td>\n",
       "      <td>60</td>\n",
       "    </tr>\n",
       "    <tr>\n",
       "      <td>3</td>\n",
       "      <td>96996</td>\n",
       "      <td>a</td>\n",
       "      <td>264</td>\n",
       "      <td>3</td>\n",
       "      <td>168793</td>\n",
       "      <td>27064</td>\n",
       "      <td>9</td>\n",
       "    </tr>\n",
       "    <tr>\n",
       "      <td>4</td>\n",
       "      <td>131465</td>\n",
       "      <td>c</td>\n",
       "      <td>4271</td>\n",
       "      <td>4</td>\n",
       "      <td>112223</td>\n",
       "      <td>13986</td>\n",
       "      <td>83</td>\n",
       "    </tr>\n",
       "    <tr>\n",
       "      <td>5</td>\n",
       "      <td>345568</td>\n",
       "      <td>r</td>\n",
       "      <td>440</td>\n",
       "      <td>1</td>\n",
       "      <td>23866</td>\n",
       "      <td>5577</td>\n",
       "      <td>4</td>\n",
       "    </tr>\n",
       "    <tr>\n",
       "      <td>6</td>\n",
       "      <td>376865</td>\n",
       "      <td>c</td>\n",
       "      <td>147</td>\n",
       "      <td>1</td>\n",
       "      <td>10759</td>\n",
       "      <td>17184</td>\n",
       "      <td>17</td>\n",
       "    </tr>\n",
       "    <tr>\n",
       "      <td>7</td>\n",
       "      <td>467378</td>\n",
       "      <td>j</td>\n",
       "      <td>2269</td>\n",
       "      <td>2</td>\n",
       "      <td>54623</td>\n",
       "      <td>312</td>\n",
       "      <td>3</td>\n",
       "    </tr>\n",
       "    <tr>\n",
       "      <td>8</td>\n",
       "      <td>393640</td>\n",
       "      <td>j</td>\n",
       "      <td>111</td>\n",
       "      <td>2</td>\n",
       "      <td>172926</td>\n",
       "      <td>53738</td>\n",
       "      <td>79</td>\n",
       "    </tr>\n",
       "    <tr>\n",
       "      <td>9</td>\n",
       "      <td>130054</td>\n",
       "      <td>c</td>\n",
       "      <td>2749</td>\n",
       "      <td>1</td>\n",
       "      <td>10189</td>\n",
       "      <td>227</td>\n",
       "      <td>0</td>\n",
       "    </tr>\n",
       "  </tbody>\n",
       "</table>\n",
       "</div>"
      ],
      "text/plain": [
       "       ID Tag  Reputation  Answers  Username  Views  Upvotes\n",
       "0   52664   a        3942        2    155623   7855       42\n",
       "1  327662   a       26046       12     21781  55801     1175\n",
       "2  468453   c        1358        4     56177   8067       60\n",
       "3   96996   a         264        3    168793  27064        9\n",
       "4  131465   c        4271        4    112223  13986       83\n",
       "5  345568   r         440        1     23866   5577        4\n",
       "6  376865   c         147        1     10759  17184       17\n",
       "7  467378   j        2269        2     54623    312        3\n",
       "8  393640   j         111        2    172926  53738       79\n",
       "9  130054   c        2749        1     10189    227        0"
      ]
     },
     "execution_count": 32,
     "metadata": {},
     "output_type": "execute_result"
    }
   ],
   "source": [
    "df=pd.read_csv('Train_upvotes.csv',header=0)\n",
    "df.head(10)\n"
   ]
  },
  {
   "cell_type": "code",
   "execution_count": 33,
   "metadata": {},
   "outputs": [
    {
     "data": {
      "text/html": [
       "<div>\n",
       "<style scoped>\n",
       "    .dataframe tbody tr th:only-of-type {\n",
       "        vertical-align: middle;\n",
       "    }\n",
       "\n",
       "    .dataframe tbody tr th {\n",
       "        vertical-align: top;\n",
       "    }\n",
       "\n",
       "    .dataframe thead th {\n",
       "        text-align: right;\n",
       "    }\n",
       "</style>\n",
       "<table border=\"1\" class=\"dataframe\">\n",
       "  <thead>\n",
       "    <tr style=\"text-align: right;\">\n",
       "      <th></th>\n",
       "      <th>ID</th>\n",
       "      <th>Reputation</th>\n",
       "      <th>Answers</th>\n",
       "      <th>Username</th>\n",
       "      <th>Views</th>\n",
       "      <th>Upvotes</th>\n",
       "    </tr>\n",
       "  </thead>\n",
       "  <tbody>\n",
       "    <tr>\n",
       "      <td>ID</td>\n",
       "      <td>1.000000</td>\n",
       "      <td>0.008546</td>\n",
       "      <td>0.017448</td>\n",
       "      <td>0.000628</td>\n",
       "      <td>0.017400</td>\n",
       "      <td>0.006328</td>\n",
       "    </tr>\n",
       "    <tr>\n",
       "      <td>Reputation</td>\n",
       "      <td>0.008546</td>\n",
       "      <td>1.000000</td>\n",
       "      <td>0.066504</td>\n",
       "      <td>-0.041019</td>\n",
       "      <td>0.036455</td>\n",
       "      <td>0.266710</td>\n",
       "    </tr>\n",
       "    <tr>\n",
       "      <td>Answers</td>\n",
       "      <td>0.017448</td>\n",
       "      <td>0.066504</td>\n",
       "      <td>1.000000</td>\n",
       "      <td>-0.012197</td>\n",
       "      <td>0.498642</td>\n",
       "      <td>0.202033</td>\n",
       "    </tr>\n",
       "    <tr>\n",
       "      <td>Username</td>\n",
       "      <td>0.000628</td>\n",
       "      <td>-0.041019</td>\n",
       "      <td>-0.012197</td>\n",
       "      <td>1.000000</td>\n",
       "      <td>0.002306</td>\n",
       "      <td>-0.011970</td>\n",
       "    </tr>\n",
       "    <tr>\n",
       "      <td>Views</td>\n",
       "      <td>0.017400</td>\n",
       "      <td>0.036455</td>\n",
       "      <td>0.498642</td>\n",
       "      <td>0.002306</td>\n",
       "      <td>1.000000</td>\n",
       "      <td>0.437336</td>\n",
       "    </tr>\n",
       "    <tr>\n",
       "      <td>Upvotes</td>\n",
       "      <td>0.006328</td>\n",
       "      <td>0.266710</td>\n",
       "      <td>0.202033</td>\n",
       "      <td>-0.011970</td>\n",
       "      <td>0.437336</td>\n",
       "      <td>1.000000</td>\n",
       "    </tr>\n",
       "  </tbody>\n",
       "</table>\n",
       "</div>"
      ],
      "text/plain": [
       "                  ID  Reputation   Answers  Username     Views   Upvotes\n",
       "ID          1.000000    0.008546  0.017448  0.000628  0.017400  0.006328\n",
       "Reputation  0.008546    1.000000  0.066504 -0.041019  0.036455  0.266710\n",
       "Answers     0.017448    0.066504  1.000000 -0.012197  0.498642  0.202033\n",
       "Username    0.000628   -0.041019 -0.012197  1.000000  0.002306 -0.011970\n",
       "Views       0.017400    0.036455  0.498642  0.002306  1.000000  0.437336\n",
       "Upvotes     0.006328    0.266710  0.202033 -0.011970  0.437336  1.000000"
      ]
     },
     "execution_count": 33,
     "metadata": {},
     "output_type": "execute_result"
    }
   ],
   "source": [
    " df.corr(method='pearson')"
   ]
  },
  {
   "cell_type": "code",
   "execution_count": 34,
   "metadata": {},
   "outputs": [
    {
     "data": {
      "text/plain": [
       "<matplotlib.axes._subplots.AxesSubplot at 0x1e15325a488>"
      ]
     },
     "execution_count": 34,
     "metadata": {},
     "output_type": "execute_result"
    },
    {
     "data": {
      "image/png": "[encoded data removed]",
      "text/plain": [
       "<Figure size 432x288 with 1 Axes>"
      ]
     },
     "metadata": {
      "needs_background": "light"
     },
     "output_type": "display_data"
    }
   ],
   "source": [
    "df.boxplot(column='Upvotes')"
   ]
  },
  {
   "cell_type": "code",
   "execution_count": 35,
   "metadata": {},
   "outputs": [
    {
     "data": {
      "text/plain": [
       "5"
      ]
     },
     "execution_count": 35,
     "metadata": {},
     "output_type": "execute_result"
    }
   ],
   "source": [
    "sum(df['Upvotes']>400000)"
   ]
  },
  {
   "cell_type": "code",
   "execution_count": 36,
   "metadata": {},
   "outputs": [
    {
     "name": "stdout",
     "output_type": "stream",
     "text": [
      "339.6979057762338\n",
      "[ -13.80658814   17.1904492   938.0456386  -121.69359477  -13.128287\n",
      " 1575.0440198 ]\n"
     ]
    },
    {
     "data": {
      "text/plain": [
       "'\\nprevious values:\\n3.353291385815151\\n[ 0.0437425 0.19303708 -0.04895137]\\n'"
      ]
     },
     "execution_count": 36,
     "metadata": {},
     "output_type": "execute_result"
    }
   ],
   "source": [
    "from sklearn.linear_model import Lasso\n",
    "lm = Lasso()\n",
    "lm.fit(X_train,Y_train)\n",
    "\n",
    "# print intercept and coefficients\n",
    "print (lm.intercept_)\n",
    "print (lm.coef_)\n",
    "\"\"\"\n",
    "previous values:\n",
    "3.353291385815151\n",
    "[ 0.0437425 0.19303708 -0.04895137]\n",
    "\"\"\""
   ]
  },
  {
   "cell_type": "code",
   "execution_count": 37,
   "metadata": {},
   "outputs": [],
   "source": [
    "Y_pred_new=lm.predict(X_test)"
   ]
  },
  {
   "cell_type": "code",
   "execution_count": 38,
   "metadata": {},
   "outputs": [
    {
     "name": "stdout",
     "output_type": "stream",
     "text": [
      "0.24968293202915248\n",
      "3216.168499520669\n",
      "0.24966929147137484\n"
     ]
    }
   ],
   "source": [
    "\n",
    "from sklearn.metrics import r2_score,mean_squared_error\n",
    "import numpy as np\n",
    "\n",
    "r2=r2_score(Y_test,Y_pred_new)\n",
    "print(r2)\n",
    "\n",
    "rmse=np.sqrt(mean_squared_error(Y_test,Y_pred_new))\n",
    "print(rmse)\n",
    "\n",
    "adjusted_r_squared = 1 - (1-r2)*(len(Y)-1)/(len(Y)-X.shape[1]-1)\n",
    "print(adjusted_r_squared)"
   ]
  },
  {
   "cell_type": "code",
   "execution_count": 39,
   "metadata": {},
   "outputs": [
    {
     "data": {
      "text/plain": [
       "DecisionTreeRegressor(criterion='mse', max_depth=20, max_features=None,\n",
       "                      max_leaf_nodes=50, min_impurity_decrease=0.0,\n",
       "                      min_impurity_split=None, min_samples_leaf=1,\n",
       "                      min_samples_split=2, min_weight_fraction_leaf=0.0,\n",
       "                      presort=False, random_state=10, splitter='best')"
      ]
     },
     "execution_count": 39,
     "metadata": {},
     "output_type": "execute_result"
    }
   ],
   "source": [
    "##Model building using DT\n",
    "##Accuracy here is 0.99 which is better than pruning the DT\n",
    "from sklearn.tree import DecisionTreeRegressor\n",
    "\n",
    "##Creating model object\n",
    "model_DT=DecisionTreeRegressor(max_depth=20,random_state=10,max_leaf_nodes=50)\n",
    "##random_state is also given here coz in DT while in different iteration it can generated \n",
    "##same values for Two iteration to prevent it \n",
    "\n",
    "\n",
    "\n",
    "##Train the model\n",
    "model_DT.fit(X_train,Y_train)\n"
   ]
  },
  {
   "cell_type": "code",
   "execution_count": 40,
   "metadata": {},
   "outputs": [
    {
     "data": {
      "text/plain": [
       "array([ 64.13905432, 289.03989063,  64.13905432, ...,  64.13905432,\n",
       "        64.13905432,  64.13905432])"
      ]
     },
     "execution_count": 40,
     "metadata": {},
     "output_type": "execute_result"
    }
   ],
   "source": [
    "##Prediction\n",
    "Y_pred=model_DT.predict(X_test)\n",
    "Y_pred"
   ]
  },
  {
   "cell_type": "code",
   "execution_count": 41,
   "metadata": {},
   "outputs": [
    {
     "name": "stdout",
     "output_type": "stream",
     "text": [
      "0.5170177247001493\n",
      "2580.369961977047\n",
      "0.517008944215321\n"
     ]
    }
   ],
   "source": [
    "\n",
    "from sklearn.metrics import r2_score,mean_squared_error\n",
    "import numpy as np\n",
    "\n",
    "r2=r2_score(Y_test,Y_pred)\n",
    "print(r2)\n",
    "\n",
    "rmse=np.sqrt(mean_squared_error(Y_test,Y_pred))\n",
    "print(rmse)\n",
    "\n",
    "adjusted_r_squared = 1 - (1-r2)*(len(Y)-1)/(len(Y)-X.shape[1]-1)\n",
    "print(adjusted_r_squared)"
   ]
  },
  {
   "cell_type": "code",
   "execution_count": 42,
   "metadata": {},
   "outputs": [],
   "source": [
    "#predicting using the Bagging_Classifier ExtraTreesClassifier\n",
    "##Accuracy obtained= 98.44%\n",
    "from sklearn.ensemble import ExtraTreesRegressor\n",
    " \n",
    "model=ExtraTreesRegressor(100,random_state=10)\n",
    "#fit the model on the data and predict the values\n",
    "model=model.fit(X_train,Y_train)\n",
    " \n",
    "Y_pred=model.predict(X_test)\n",
    " \n",
    " \n",
    "\n",
    " \n"
   ]
  },
  {
   "cell_type": "code",
   "execution_count": 43,
   "metadata": {},
   "outputs": [
    {
     "name": "stdout",
     "output_type": "stream",
     "text": [
      "0.8642243179796315\n",
      "1368.130036175714\n",
      "0.8642218496151034\n"
     ]
    }
   ],
   "source": [
    "\n",
    "from sklearn.metrics import r2_score,mean_squared_error\n",
    "import numpy as np\n",
    "\n",
    "r2=r2_score(Y_test,Y_pred)\n",
    "print(r2)\n",
    "\n",
    "rmse=np.sqrt(mean_squared_error(Y_test,Y_pred))\n",
    "print(rmse)\n",
    "\n",
    "adjusted_r_squared = 1 - (1-r2)*(len(Y)-1)/(len(Y)-X.shape[1]-1)\n",
    "print(adjusted_r_squared)"
   ]
  },
  {
   "cell_type": "code",
   "execution_count": 46,
   "metadata": {},
   "outputs": [],
   "source": [
    "#predicting using the Random_Forest_Classifier\n",
    "##Accuracy obtained= 98.26\n",
    "from sklearn.ensemble import RandomForestRegressor\n",
    " \n",
    "model_RandomForest=RandomForestRegressor(n_estimators=50,random_state=10)\n",
    " \n",
    "#fit the model on the data and predict the values\n",
    "model_RandomForest.fit(X_train,Y_train)\n",
    " \n",
    "Y_pred=model_RandomForest.predict(X_test)"
   ]
  },
  {
   "cell_type": "code",
   "execution_count": 48,
   "metadata": {},
   "outputs": [
    {
     "name": "stdout",
     "output_type": "stream",
     "text": [
      "0.7695590902013877\n",
      "1782.3630557825786\n",
      "0.7695549008490743\n"
     ]
    }
   ],
   "source": [
    "\n",
    "from sklearn.metrics import r2_score,mean_squared_error\n",
    "import numpy as np\n",
    "\n",
    "r2=r2_score(Y_test,Y_pred)\n",
    "print(r2)\n",
    "\n",
    "rmse=np.sqrt(mean_squared_error(Y_test,Y_pred))\n",
    "print(rmse)\n",
    "\n",
    "adjusted_r_squared = 1 - (1-r2)*(len(Y)-1)/(len(Y)-X.shape[1]-1)\n",
    "print(adjusted_r_squared)"
   ]
  },
  {
   "cell_type": "code",
   "execution_count": null,
   "metadata": {},
   "outputs": [],
   "source": []
  }
 ],
 "metadata": {
  "kernelspec": {
   "display_name": "Python 3",
   "language": "python",
   "name": "python3"
  },
  "language_info": {
   "codemirror_mode": {
    "name": "ipython",
    "version": 3
   },
   "file_extension": ".py",
   "mimetype": "text/x-python",
   "name": "python",
   "nbconvert_exporter": "python",
   "pygments_lexer": "ipython3",
   "version": "3.7.4"
  }
 },
 "nbformat": 4,
 "nbformat_minor": 2
}
